{
 "cells": [
  {
   "cell_type": "code",
   "execution_count": null,
   "metadata": {},
   "outputs": [],
   "source": [
    "import pandas as pd\n",
    "import matplotlib.pyplot as plt\n",
    "import matplotlib.colors as colors\n",
    "from mpl_toolkits.axes_grid1 import make_axes_locatable\n",
    "import seaborn as sns\n",
    "import numpy as np\n",
    "import time\n",
    "from sklearn.model_selection import train_test_split\n",
    "from sklearn.preprocessing import RobustScaler\n",
    "from sklearn.ensemble import IsolationForest, RandomForestClassifier\n",
    "from sklearn.linear_model import LogisticRegression\n",
    "from sklearn.metrics import f1_score, recall_score, precision_score, classification_report, confusion_matrix\n",
    "from sklearn.neighbors import KNeighborsClassifier\n",
    "from sklearn.svm import LinearSVC, SVC\n"
   ]
  },
  {
   "cell_type": "code",
   "execution_count": null,
   "metadata": {},
   "outputs": [],
   "source": [
    "#Load data\n",
    "well_13 = pd.read_excel('VolveData_Project.xlsx', sheet_name='well 13',index_col=0)\n",
    "well_14 = pd.read_excel('VolveData_Project.xlsx', sheet_name='well 14')\n",
    "well_15 = pd.read_excel('VolveData_Project.xlsx', sheet_name='well 15')"
   ]
  },
  {
   "cell_type": "code",
   "execution_count": null,
   "metadata": {},
   "outputs": [],
   "source": [
    "data = pd.concat([well_14, well_15], axis=0)\n",
    "data['Well'] = data['Well'].astype('category')\n",
    "data['RT_log'] = np.log10(data.RT) #For Visualization\n",
    "data"
   ]
  },
  {
   "cell_type": "code",
   "execution_count": null,
   "metadata": {},
   "outputs": [],
   "source": [
    "sns.pairplot(data.drop(['Well','Depth'], axis = 1) ,hue='Facies',diag_kind='hist')"
   ]
  },
  {
   "cell_type": "code",
   "execution_count": null,
   "metadata": {},
   "outputs": [],
   "source": [
    "labels = [1,2,3,4] \n",
    "data['Facies_Label']=np.select([data['Facies'] == 'SH',\n",
    "                                data['Facies'] == 'UN',\n",
    "                                data['Facies'] == 'SS',\n",
    "                                data['Facies'] == 'CB',]\n",
    "                                ,labels)"
   ]
  },
  {
   "cell_type": "code",
   "execution_count": null,
   "metadata": {},
   "outputs": [],
   "source": [
    "data"
   ]
  },
  {
   "cell_type": "code",
   "execution_count": null,
   "metadata": {},
   "outputs": [],
   "source": [
    "facies_colors = ['#2E86C1', '#196F3D','#F4D03F','#DC7633']\n",
    "\n",
    "facies = ['SH', 'UN', 'SS', 'CB']\n",
    "\n",
    "def make_facies_log_plot(logs, facies_colors):\n",
    "    #make sure logs are sorted by depth\n",
    "    logs = logs.sort_values(by='Depth')\n",
    "    cmap_facies = colors.ListedColormap(\n",
    "            facies_colors[0:len(facies_colors)], 'indexed')\n",
    "    \n",
    "    ztop=logs.Depth.min(); zbot=logs.Depth.max()\n",
    "    \n",
    "    cluster=np.repeat(np.expand_dims(logs['Facies_Label'].values,1), 100, 1)\n",
    "    \n",
    "    f, ax = plt.subplots(nrows=1, ncols=5, figsize=(8, 12))\n",
    "    ax[0].plot(logs.GR, logs.Depth, '-g')\n",
    "    ax[1].plot(logs.RT_log, logs.Depth, '-')\n",
    "    ax[2].plot(logs.NPHI, logs.Depth, '-', color='0.5')\n",
    "    ax[3].plot(logs.RHOB, logs.Depth, '-', color='r')\n",
    "    im=ax[4].imshow(cluster, interpolation='none', aspect='auto',\n",
    "                   cmap=cmap_facies,vmin=1,vmax=4)\n",
    "    \n",
    "    divider = make_axes_locatable(ax[4])\n",
    "    cax = divider.append_axes(\"right\", size=\"20%\", pad=0.05)\n",
    "    cbar=plt.colorbar(im, cax=cax)\n",
    "    cbar.set_label((50*' ').join(['SH', 'UN', 'SS', 'CB']))\n",
    "    cbar.set_ticks(range(0,1)); cbar.set_ticklabels('')\n",
    "    \n",
    "    for i in range(len(ax)-1):\n",
    "        ax[i].set_ylim(ztop,zbot)\n",
    "        ax[i].invert_yaxis()\n",
    "        ax[i].grid()\n",
    "        ax[i].locator_params(axis='x', nbins=3)\n",
    "    \n",
    "    ax[0].set_xlabel(\"GR\")\n",
    "    ax[0].set_xlim(logs.GR.min(),logs.GR.max())\n",
    "    ax[1].set_xlabel(\"RT\")\n",
    "    ax[1].set_xlim(logs.RT_log.min(),logs.RT_log.max())\n",
    "    ax[2].set_xlabel(\"NPHI\")\n",
    "    ax[2].set_xlim(logs.NPHI.min(),logs.NPHI.max())\n",
    "    ax[3].set_xlabel(\"RHOB\")\n",
    "    ax[3].set_xlim(logs.RHOB.min(),logs.RHOB.max())\n",
    "    ax[4].set_xlabel('Facies')\n",
    "    \n",
    "    ax[1].set_yticklabels([]); ax[2].set_yticklabels([]); ax[3].set_yticklabels([]); ax[4].set_yticklabels([])\n",
    "    ax[4].set_xticklabels([])\n",
    "    f.suptitle('Well: %s'%logs.iloc[0]['Well'], fontsize=14,y=0.94)"
   ]
  },
  {
   "cell_type": "code",
   "execution_count": null,
   "metadata": {},
   "outputs": [],
   "source": [
    "make_facies_log_plot(data[data['Well'] == 15],facies_colors)"
   ]
  },
  {
   "cell_type": "code",
   "execution_count": null,
   "metadata": {},
   "outputs": [],
   "source": [
    "#Bar chart: Distribution of Facies\n",
    "Facies_dist = data['Facies'].value_counts().sort_index()\n",
    "\n",
    "Facies_dist.plot(kind='bar',color=facies_colors, \n",
    "                   title='Distribution of Facies')"
   ]
  },
  {
   "cell_type": "code",
   "execution_count": null,
   "metadata": {},
   "outputs": [],
   "source": [
    "data.describe()"
   ]
  },
  {
   "cell_type": "code",
   "execution_count": null,
   "metadata": {},
   "outputs": [],
   "source": [
    "X = data.drop(['Facies','Well','Facies_Label','RT_log'], axis = 1) #Features: Feature vector\n",
    "y = data['Facies'] "
   ]
  },
  {
   "cell_type": "code",
   "execution_count": null,
   "metadata": {},
   "outputs": [],
   "source": [
    "X_train, X_test, y_train, y_test = train_test_split(X, y, test_size=0.3, random_state=100)\n",
    "print('Dimensions of X_train:',X_train.shape)\n",
    "print('Dimensions of X_test:',X_test.shape)"
   ]
  },
  {
   "cell_type": "code",
   "execution_count": null,
   "metadata": {},
   "outputs": [],
   "source": [
    "X_train.hist()\n",
    "plt.show()"
   ]
  },
  {
   "cell_type": "code",
   "execution_count": null,
   "metadata": {},
   "outputs": [],
   "source": [
    "# Robust Scaler\n",
    "rscaler = RobustScaler() #instantiate\n",
    "rscaler.fit(X_train) "
   ]
  },
  {
   "cell_type": "code",
   "execution_count": null,
   "metadata": {},
   "outputs": [],
   "source": [
    "classifier = LogisticRegression(C=12) \n",
    "classifier.fit(X_train, y_train)\n",
    "\n",
    "print(classifier.coef_) #a1 and a2\n",
    "print(classifier.intercept_) # a0"
   ]
  },
  {
   "cell_type": "code",
   "execution_count": null,
   "metadata": {},
   "outputs": [],
   "source": [
    "prediction = classifier.predict(X_test)"
   ]
  },
  {
   "cell_type": "code",
   "execution_count": null,
   "metadata": {},
   "outputs": [],
   "source": [
    "#Compare against true labels (Accuracy)\n",
    "print('Accuracy (generalization)',classifier.score(X_test,y_test)) #Accuracy (generalization)  \n",
    "print('Accuracy (memorization)',classifier.score(X_train,y_train)) #Accuracy (memorization)"
   ]
  },
  {
   "cell_type": "code",
   "execution_count": null,
   "metadata": {},
   "outputs": [],
   "source": [
    "cforest = RandomForestClassifier(criterion='entropy',n_estimators=100,max_depth=5,random_state=1, n_jobs=2) #Creating Instance\n",
    "cforest.fit(X_train, y_train) #Learning the decision boundaries\n",
    "y_pred = cforest.predict(X_test)"
   ]
  },
  {
   "cell_type": "code",
   "execution_count": null,
   "metadata": {},
   "outputs": [],
   "source": [
    "#Compare against true labels (Accuracy)\n",
    "print('Accuracy (generalization)',cforest.score(X_test,y_test)) #Accuracy (generalization)  \n",
    "print('Accuracy (memorization)',cforest.score(X_train,y_train)) #Accuracy (memorization)"
   ]
  },
  {
   "cell_type": "code",
   "execution_count": null,
   "metadata": {},
   "outputs": [],
   "source": []
  },
  {
   "cell_type": "code",
   "execution_count": null,
   "metadata": {},
   "outputs": [],
   "source": [
    "svc_mod.fit(X_train, y_train) \n",
    "svc_mod.best_estimator_"
   ]
  },
  {
   "cell_type": "code",
   "execution_count": null,
   "metadata": {},
   "outputs": [],
   "source": [
    "print(svc_mod.best_params_) "
   ]
  },
  {
   "cell_type": "code",
   "execution_count": null,
   "metadata": {},
   "outputs": [],
   "source": [
    "#Performance (Accuracy)\n",
    "print('Accuracy (generalization)',svc_mod.score(X_test,y_test)) #Accuracy (generalization)  \n",
    "print('Accuracy (memorization)',svc_mod.score(X_train,y_train)) #Accuracy (memorization)\n",
    "\n",
    "#Comparing other metrics (f1_score)\n",
    "print('F1_score (generalization)',f1_score(y_test,svc_mod.predict(X_test),average=\"weighted\")) #F1_score (generalization)  \n",
    "print('F1_score (memorization)',f1_score(y_train,svc_mod.predict(X_train),average=\"weighted\")) #F1_score (memorization) b"
   ]
  },
  {
   "cell_type": "code",
   "execution_count": null,
   "metadata": {},
   "outputs": [],
   "source": [
    "srbf=SVC(C=100,kernel='rbf',gamma=0.1)\n",
    "srbf.fit(X_train, y_train)"
   ]
  },
  {
   "cell_type": "code",
   "execution_count": null,
   "metadata": {},
   "outputs": [],
   "source": [
    "#Performance (Accuracy)\n",
    "print('Accuracy (generalization)',srbf.score(X_test,y_test)) #Accuracy (generalization)  \n",
    "print('Accuracy (memorization)',srbf.score(X_train,y_train)) #Accuracy (memorization)\n",
    "\n",
    "#Comparing other metrics (f1_score)\n",
    "print('F1_score (generalization)',f1_score(y_test,srbf.predict(X_test),average=\"weighted\")) #F1_score (generalization)  \n",
    "print('F1_score (memorization)',f1_score(y_train,srbf.predict(X_train),average=\"weighted\")) #F1_score (memorization) "
   ]
  },
  {
   "cell_type": "code",
   "execution_count": null,
   "metadata": {},
   "outputs": [],
   "source": [
    "#Confusion Matrix\n",
    "cf_matrix = confusion_matrix(y_train, srbf.predict(X_train))\n",
    "\n",
    "sns.heatmap(cf_matrix, annot=True, annot_kws={\"size\": 12},cmap='Blues',fmt=\"d\",xticklabels=names,yticklabels=names)\n",
    "\n",
    "plt.show()"
   ]
  }
 ],
 "metadata": {
  "kernelspec": {
   "display_name": "Python 3",
   "language": "python",
   "name": "python3"
  },
  "language_info": {
   "codemirror_mode": {
    "name": "ipython",
    "version": 3
   },
   "file_extension": ".py",
   "mimetype": "text/x-python",
   "name": "python",
   "nbconvert_exporter": "python",
   "pygments_lexer": "ipython3",
   "version": "3.8.5"
  }
 },
 "nbformat": 4,
 "nbformat_minor": 4
}
